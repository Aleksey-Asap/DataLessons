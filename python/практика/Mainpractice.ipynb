{
 "cells": [
  {
   "cell_type": "markdown",
   "id": "36eec02f-9ad4-48cd-b905-4d4ceb223430",
   "metadata": {
    "tags": []
   },
   "source": [
    "### Практика со списком"
   ]
  },
  {
   "cell_type": "code",
   "execution_count": 1,
   "id": "42e51466-3787-4698-a0b2-c9206365701a",
   "metadata": {
    "tags": []
   },
   "outputs": [],
   "source": [
    "phones = []"
   ]
  },
  {
   "cell_type": "code",
   "execution_count": 2,
   "id": "7bf80ad0-73fa-4d04-9667-ae2b14e94f64",
   "metadata": {},
   "outputs": [
    {
     "name": "stdout",
     "output_type": "stream",
     "text": [
      "['phones1', 'phones2', 'phones3', 'phones4']\n"
     ]
    }
   ],
   "source": [
    "phones.extend([\"phones1\",\"phones2\",\"phones3\",\"phones4\"])\n",
    "print(phones)"
   ]
  },
  {
   "cell_type": "code",
   "execution_count": 3,
   "id": "d2daaecf-b241-4bd1-9a20-4fa7fa41c2f9",
   "metadata": {},
   "outputs": [
    {
     "name": "stdout",
     "output_type": "stream",
     "text": [
      "['phones2', 'phones3']\n"
     ]
    }
   ],
   "source": [
    "del phones[0]\n",
    "del phones[-1]\n",
    "print(phones)"
   ]
  },
  {
   "cell_type": "code",
   "execution_count": 4,
   "id": "704d5d1a-ac2f-4d46-bda8-60c39206b9db",
   "metadata": {},
   "outputs": [
    {
     "name": "stdout",
     "output_type": "stream",
     "text": [
      "['phones2', 'phones3', 'phones5']\n"
     ]
    }
   ],
   "source": [
    "phones.insert(5,\"phones5\")\n",
    "print(phones)"
   ]
  },
  {
   "cell_type": "code",
   "execution_count": 5,
   "id": "dba4b4b0-6038-4695-b206-d2af3ae696a1",
   "metadata": {},
   "outputs": [
    {
     "data": {
      "text/plain": [
       "1"
      ]
     },
     "execution_count": 5,
     "metadata": {},
     "output_type": "execute_result"
    }
   ],
   "source": [
    "phones.count('phones3')"
   ]
  },
  {
   "cell_type": "code",
   "execution_count": 6,
   "id": "fb4401ac-ea1c-430a-a923-fb9a897e9ef7",
   "metadata": {},
   "outputs": [
    {
     "name": "stdout",
     "output_type": "stream",
     "text": [
      "['phones2', 'phones3', 'phones5']\n"
     ]
    }
   ],
   "source": [
    "phones.sort()\n",
    "print(phones)"
   ]
  },
  {
   "cell_type": "code",
   "execution_count": 7,
   "id": "f3da1dc9-b996-4269-a859-ff4c15538d10",
   "metadata": {},
   "outputs": [
    {
     "name": "stdout",
     "output_type": "stream",
     "text": [
      "['phones5', 'phones3', 'phones2']\n"
     ]
    }
   ],
   "source": [
    "phones.reverse()\n",
    "print(phones)"
   ]
  },
  {
   "cell_type": "code",
   "execution_count": null,
   "id": "4eff8767-e3ad-42cf-b752-0e87b739cea7",
   "metadata": {},
   "outputs": [],
   "source": []
  },
  {
   "cell_type": "code",
   "execution_count": null,
   "id": "292e8b7f-0ac9-433d-8c18-62091b5e5c81",
   "metadata": {},
   "outputs": [],
   "source": []
  },
  {
   "cell_type": "code",
   "execution_count": 8,
   "id": "6ea1fffe-4e95-4478-8c3d-6b7be046c640",
   "metadata": {},
   "outputs": [
    {
     "name": "stdout",
     "output_type": "stream",
     "text": [
      "['phones2', 'phones3', 'phones5']\n"
     ]
    }
   ],
   "source": [
    "phones.reverse()\n",
    "print(phones)"
   ]
  },
  {
   "cell_type": "markdown",
   "id": "b72b7297-f5a7-4358-889e-28a0101b67c8",
   "metadata": {
    "jp-MarkdownHeadingCollapsed": true,
    "tags": []
   },
   "source": [
    "### Практика Seed()"
   ]
  },
  {
   "cell_type": "code",
   "execution_count": 9,
   "id": "409359b5-6118-4c87-a5a0-b2843ee719d3",
   "metadata": {
    "tags": []
   },
   "outputs": [],
   "source": [
    "import numpy as np"
   ]
  },
  {
   "cell_type": "code",
   "execution_count": 10,
   "id": "63ff1f44-5d27-4fed-8a26-46df2e8a0647",
   "metadata": {},
   "outputs": [
    {
     "data": {
      "text/plain": [
       "array([1, 6, 5, 6, 1, 5, 4, 4, 6, 6])"
      ]
     },
     "execution_count": 10,
     "metadata": {},
     "output_type": "execute_result"
    }
   ],
   "source": [
    "np.random.seed(15)\n",
    "np.random.randint(1,7, 10)"
   ]
  },
  {
   "cell_type": "code",
   "execution_count": 11,
   "id": "00c95d05-b9a8-42b9-a00d-6412e944b31c",
   "metadata": {},
   "outputs": [
    {
     "data": {
      "text/plain": [
       "array([2, 6, 1, 3, 5, 2, 6, 4, 5, 6])"
      ]
     },
     "execution_count": 11,
     "metadata": {},
     "output_type": "execute_result"
    }
   ],
   "source": [
    "np.random.randint(1,7, 10)"
   ]
  },
  {
   "cell_type": "markdown",
   "id": "2a4e9bc7-d8b3-4519-94f6-3b1925ce89aa",
   "metadata": {
    "tags": []
   },
   "source": [
    "### Практика со множествами (Set) и со словарями"
   ]
  },
  {
   "cell_type": "code",
   "execution_count": 12,
   "id": "87607eed-6e78-4f38-8406-f8f17f3ad39c",
   "metadata": {},
   "outputs": [],
   "source": [
    "alex = set([\"Алексей\", \"Владимир\", \"Максим\", \"Дима\"])\n",
    "vlad = set([\"Игорь\", \"Владимир\", \"Максим\", \"Даниил\", \"Алина\"])"
   ]
  },
  {
   "cell_type": "code",
   "execution_count": 13,
   "id": "0e2779c0-4675-47c7-b03f-6a613d1cee35",
   "metadata": {},
   "outputs": [
    {
     "data": {
      "text/plain": [
       "{'Владимир', 'Максим'}"
      ]
     },
     "execution_count": 13,
     "metadata": {},
     "output_type": "execute_result"
    }
   ],
   "source": [
    "alex.intersection(vlad)"
   ]
  },
  {
   "cell_type": "code",
   "execution_count": 14,
   "id": "9b42124f-2c8b-4164-ac36-d18c81084c79",
   "metadata": {},
   "outputs": [
    {
     "data": {
      "text/plain": [
       "{'Алексей', 'Дима'}"
      ]
     },
     "execution_count": 14,
     "metadata": {},
     "output_type": "execute_result"
    }
   ],
   "source": [
    "alex.difference(vlad)"
   ]
  },
  {
   "cell_type": "code",
   "execution_count": 15,
   "id": "e02f2c07-c03a-435b-9eb5-f9960afaa157",
   "metadata": {},
   "outputs": [
    {
     "data": {
      "text/plain": [
       "{'Алина', 'Даниил', 'Игорь'}"
      ]
     },
     "execution_count": 15,
     "metadata": {},
     "output_type": "execute_result"
    }
   ],
   "source": [
    "vlad.difference(alex)"
   ]
  },
  {
   "cell_type": "code",
   "execution_count": 16,
   "id": "8d06c39d-b3ca-4538-9c47-3b58441a7304",
   "metadata": {},
   "outputs": [
    {
     "data": {
      "text/plain": [
       "{'Алексей', 'Алина', 'Даниил', 'Дима', 'Игорь'}"
      ]
     },
     "execution_count": 16,
     "metadata": {},
     "output_type": "execute_result"
    }
   ],
   "source": [
    "vlad.symmetric_difference(alex)"
   ]
  },
  {
   "cell_type": "code",
   "execution_count": 17,
   "id": "9dd21186-0985-4b40-b20e-5389d338c860",
   "metadata": {},
   "outputs": [],
   "source": [
    "vlad.add(\"Алина\")"
   ]
  },
  {
   "cell_type": "code",
   "execution_count": 18,
   "id": "6a088976-885a-46ed-bae0-3dbc5e290c7f",
   "metadata": {},
   "outputs": [
    {
     "data": {
      "text/plain": [
       "{'Алина', 'Владимир', 'Даниил', 'Игорь', 'Максим'}"
      ]
     },
     "execution_count": 18,
     "metadata": {},
     "output_type": "execute_result"
    }
   ],
   "source": [
    "vlad"
   ]
  },
  {
   "cell_type": "code",
   "execution_count": 19,
   "id": "418de28e-a06f-4245-9307-1bb1494a0da0",
   "metadata": {},
   "outputs": [],
   "source": [
    "alex.add(\"Джек\")"
   ]
  },
  {
   "cell_type": "code",
   "execution_count": 20,
   "id": "a56a9709-8c6a-4b4f-9edc-2cf3ce49135a",
   "metadata": {},
   "outputs": [
    {
     "data": {
      "text/plain": [
       "{'Алексей', 'Владимир', 'Джек', 'Дима', 'Максим'}"
      ]
     },
     "execution_count": 20,
     "metadata": {},
     "output_type": "execute_result"
    }
   ],
   "source": [
    "alex"
   ]
  },
  {
   "cell_type": "code",
   "execution_count": 21,
   "id": "89f3fd6d-d5cd-47c1-bf5b-813d7f85a05b",
   "metadata": {},
   "outputs": [],
   "source": [
    "alex.remove(\"Владимир\")"
   ]
  },
  {
   "cell_type": "code",
   "execution_count": 22,
   "id": "f1f21e3c-61c8-4893-b9cc-01e9d25af160",
   "metadata": {},
   "outputs": [
    {
     "data": {
      "text/plain": [
       "{'Алексей', 'Джек', 'Дима', 'Максим'}"
      ]
     },
     "execution_count": 22,
     "metadata": {},
     "output_type": "execute_result"
    }
   ],
   "source": [
    "alex"
   ]
  },
  {
   "cell_type": "code",
   "execution_count": 23,
   "id": "d07fcbfa-4cae-41d5-96f3-7a96f8d6594e",
   "metadata": {},
   "outputs": [
    {
     "name": "stdout",
     "output_type": "stream",
     "text": [
      "{'alex': 'employee', 'vlad': 'employee', 'any': 'business woman'}\n"
     ]
    }
   ],
   "source": [
    "people = {\n",
    "    \"alex\": \"employee\",\n",
    "    \"vlad\": \"employee\",\n",
    "    \"any\": \"business woman\"\n",
    "      }\n",
    "print(people)"
   ]
  },
  {
   "cell_type": "code",
   "execution_count": 24,
   "id": "b9c19e1b-8cf4-48b2-b688-28f7fb7678a7",
   "metadata": {},
   "outputs": [
    {
     "data": {
      "text/plain": [
       "'employee'"
      ]
     },
     "execution_count": 24,
     "metadata": {},
     "output_type": "execute_result"
    }
   ],
   "source": [
    "people[\"alex\"]"
   ]
  },
  {
   "cell_type": "code",
   "execution_count": 25,
   "id": "6a8796c0-e0a5-4de6-8f66-ad58a217a0bc",
   "metadata": {},
   "outputs": [
    {
     "data": {
      "text/plain": [
       "'business woman'"
      ]
     },
     "execution_count": 25,
     "metadata": {},
     "output_type": "execute_result"
    }
   ],
   "source": [
    "people[\"any\"]"
   ]
  },
  {
   "cell_type": "code",
   "execution_count": 26,
   "id": "1b8b8ad0-77ab-4467-92f0-21398e4e28da",
   "metadata": {},
   "outputs": [],
   "source": [
    "people[\"andrey\"] = \"employee\""
   ]
  },
  {
   "cell_type": "code",
   "execution_count": 27,
   "id": "16f652c8-ea2c-4e35-aa02-abc35644b6f9",
   "metadata": {},
   "outputs": [
    {
     "data": {
      "text/plain": [
       "'employee'"
      ]
     },
     "execution_count": 27,
     "metadata": {},
     "output_type": "execute_result"
    }
   ],
   "source": [
    "people[\"andrey\"]"
   ]
  },
  {
   "cell_type": "code",
   "execution_count": 28,
   "id": "cc2d2886-4ec7-4373-97e6-9cd9612cc9b8",
   "metadata": {},
   "outputs": [
    {
     "data": {
      "text/plain": [
       "{'alex': 'employee',\n",
       " 'vlad': 'employee',\n",
       " 'any': 'business woman',\n",
       " 'andrey': 'employee'}"
      ]
     },
     "execution_count": 28,
     "metadata": {},
     "output_type": "execute_result"
    }
   ],
   "source": [
    "people"
   ]
  },
  {
   "cell_type": "code",
   "execution_count": 29,
   "id": "dc18cace-dc02-4b6f-a4a1-7122c3b06426",
   "metadata": {},
   "outputs": [],
   "source": [
    "del people[\"andrey\"]"
   ]
  },
  {
   "cell_type": "code",
   "execution_count": 30,
   "id": "c9370e66-f675-4752-8351-ba53b5e5cea3",
   "metadata": {},
   "outputs": [
    {
     "data": {
      "text/plain": [
       "{'alex': 'employee', 'vlad': 'employee', 'any': 'business woman'}"
      ]
     },
     "execution_count": 30,
     "metadata": {},
     "output_type": "execute_result"
    }
   ],
   "source": [
    "people"
   ]
  },
  {
   "cell_type": "code",
   "execution_count": 31,
   "id": "b5195a09-f327-4403-ba36-22812523d15b",
   "metadata": {},
   "outputs": [
    {
     "name": "stdout",
     "output_type": "stream",
     "text": [
      "{'andrey': 'employee'}\n"
     ]
    }
   ],
   "source": [
    "andrey = {\n",
    "    'andrey': 'employee'\n",
    "      }\n",
    "print(andrey)"
   ]
  },
  {
   "cell_type": "code",
   "execution_count": 32,
   "id": "040220c5-dc47-4579-a4c6-2381b24f6687",
   "metadata": {},
   "outputs": [],
   "source": [
    "people.update(andrey)"
   ]
  },
  {
   "cell_type": "code",
   "execution_count": 33,
   "id": "382b951b-afb8-482d-b5fd-11f446cbe3dc",
   "metadata": {},
   "outputs": [
    {
     "data": {
      "text/plain": [
       "{'alex': 'employee',\n",
       " 'vlad': 'employee',\n",
       " 'any': 'business woman',\n",
       " 'andrey': 'employee'}"
      ]
     },
     "execution_count": 33,
     "metadata": {},
     "output_type": "execute_result"
    }
   ],
   "source": [
    "people"
   ]
  },
  {
   "cell_type": "code",
   "execution_count": 36,
   "id": "0da1b30e-b5ff-4a1e-8df7-0ac9a8ccd73d",
   "metadata": {},
   "outputs": [
    {
     "data": {
      "text/plain": [
       "dict_items([('alex', 'employee'), ('vlad', 'employee'), ('any', 'business woman'), ('andrey', 'employee')])"
      ]
     },
     "execution_count": 36,
     "metadata": {},
     "output_type": "execute_result"
    }
   ],
   "source": [
    "people.items()"
   ]
  },
  {
   "cell_type": "code",
   "execution_count": 37,
   "id": "fc51a1d0-a53c-4e02-a714-b54ddc76a9e3",
   "metadata": {},
   "outputs": [
    {
     "data": {
      "text/plain": [
       "dict_keys(['alex', 'vlad', 'any', 'andrey'])"
      ]
     },
     "execution_count": 37,
     "metadata": {},
     "output_type": "execute_result"
    }
   ],
   "source": [
    "people.keys()"
   ]
  },
  {
   "cell_type": "code",
   "execution_count": 38,
   "id": "91c02033-5ead-49ce-ad90-ee1e11a1151b",
   "metadata": {},
   "outputs": [
    {
     "data": {
      "text/plain": [
       "dict_values(['employee', 'employee', 'business woman', 'employee'])"
      ]
     },
     "execution_count": 38,
     "metadata": {},
     "output_type": "execute_result"
    }
   ],
   "source": [
    "people.values()"
   ]
  },
  {
   "cell_type": "markdown",
   "id": "489829a8-44f8-4538-85c5-ab0171c08665",
   "metadata": {},
   "source": [
    "### Работа с циклами"
   ]
  },
  {
   "cell_type": "code",
   "execution_count": 39,
   "id": "7fb14d7c-adc3-420f-8d2d-fa2f925d5d08",
   "metadata": {},
   "outputs": [],
   "source": [
    "alex = [\"Алексей\", \"Владимир\", \"Максим\", \"Дима\"]\n",
    "vlad = [\"Игорь\", \"Владимир\", \"Максим\", \"Даниил\", \"Алина\"]"
   ]
  },
  {
   "cell_type": "code",
   "execution_count": 47,
   "id": "3cf39e67-d36a-47a1-8e69-05c9e5939b7f",
   "metadata": {},
   "outputs": [
    {
     "name": "stdout",
     "output_type": "stream",
     "text": [
      "алексей\n",
      "владимир\n",
      "максим\n",
      "дима\n"
     ]
    }
   ],
   "source": [
    "for i in alex:\n",
    "    print(i.lower())"
   ]
  },
  {
   "cell_type": "code",
   "execution_count": 48,
   "id": "84c5078e-3856-4605-be05-17848f7f8fd1",
   "metadata": {},
   "outputs": [
    {
     "name": "stdout",
     "output_type": "stream",
     "text": [
      "0 Алексей\n",
      "1 Владимир\n",
      "2 Максим\n",
      "3 Дима\n"
     ]
    }
   ],
   "source": [
    "for i, j in enumerate(alex):\n",
    "    print(i,j)"
   ]
  },
  {
   "cell_type": "code",
   "execution_count": 61,
   "id": "fc2748ae-dfa5-4577-bed0-f1ce50e8384b",
   "metadata": {},
   "outputs": [],
   "source": [
    "alex = [\"Алексей\", \"Владимир\", \"Максим\", \"Дима\"]\n",
    "for i,j in enumerate(alex):\n",
    "    alex[i] = j.lower()"
   ]
  },
  {
   "cell_type": "code",
   "execution_count": 62,
   "id": "dd80f460-01a7-4bc5-b582-da06e5df9866",
   "metadata": {},
   "outputs": [
    {
     "data": {
      "text/plain": [
       "['алексей', 'владимир', 'максим', 'дима']"
      ]
     },
     "execution_count": 62,
     "metadata": {},
     "output_type": "execute_result"
    }
   ],
   "source": [
    "alex"
   ]
  },
  {
   "cell_type": "code",
   "execution_count": 7,
   "id": "9fb757b1-1962-45f1-99fe-69e2f1cc68ed",
   "metadata": {},
   "outputs": [
    {
     "name": "stdout",
     "output_type": "stream",
     "text": [
      "0 1 2 3 4 5 6 7 8 9 10 11 12 13 14 15 16 17 18 19 20 21 22 23 24 25 26 27 28 29 30 31 32 33 34 35 36 37 38 39 40 41 42 43 44 45 46 47 48 49 50 51 52 53 54 55 56 57 58 59 60 61 62 63 64 65 66 67 68 69 70 71 72 73 74 75 76 77 78 79 80 81 82 83 84 85 86 87 88 89 90 91 92 93 94 95 96 97 98 99 "
     ]
    }
   ],
   "source": [
    "for i in range(0,100):\n",
    "    print(i , end = ' ')"
   ]
  },
  {
   "cell_type": "code",
   "execution_count": 8,
   "id": "bec175fe-c7dc-485e-929b-4af646fdd6fd",
   "metadata": {},
   "outputs": [
    {
     "name": "stdout",
     "output_type": "stream",
     "text": [
      "0\n",
      "1\n",
      "2\n",
      "3\n",
      "4\n",
      "5\n",
      "6\n",
      "7\n",
      "8\n",
      "9\n",
      "10\n",
      "11\n",
      "12\n",
      "13\n",
      "14\n",
      "15\n",
      "16\n",
      "17\n",
      "18\n",
      "19\n",
      "20\n",
      "21\n",
      "22\n",
      "23\n",
      "24\n",
      "25\n",
      "26\n",
      "27\n",
      "28\n",
      "29\n",
      "30\n",
      "31\n",
      "32\n",
      "33\n",
      "34\n",
      "35\n",
      "36\n",
      "37\n",
      "38\n",
      "39\n",
      "40\n",
      "41\n",
      "42\n",
      "43\n",
      "44\n",
      "45\n",
      "46\n",
      "47\n",
      "48\n",
      "49\n",
      "50\n",
      "51\n",
      "52\n",
      "53\n",
      "54\n",
      "55\n",
      "56\n",
      "57\n",
      "58\n",
      "59\n",
      "60\n",
      "61\n",
      "62\n",
      "63\n",
      "64\n",
      "65\n",
      "66\n",
      "67\n",
      "68\n",
      "69\n",
      "70\n",
      "71\n",
      "72\n",
      "73\n",
      "74\n",
      "75\n",
      "76\n",
      "77\n",
      "78\n",
      "79\n",
      "80\n",
      "81\n",
      "82\n",
      "83\n",
      "84\n",
      "85\n",
      "86\n",
      "87\n",
      "88\n",
      "89\n",
      "90\n",
      "91\n",
      "92\n",
      "93\n",
      "94\n",
      "95\n",
      "96\n",
      "97\n",
      "98\n",
      "99\n"
     ]
    }
   ],
   "source": [
    "for i in range(0,100):\n",
    "    print(i , end = '\\n')"
   ]
  },
  {
   "cell_type": "code",
   "execution_count": 22,
   "id": "e71e6779-e991-4164-8c22-bed4eeee772c",
   "metadata": {},
   "outputs": [
    {
     "name": "stdout",
     "output_type": "stream",
     "text": [
      "0 2 4 6 8 10 12 14 16 18 20 22 24 26 28 30 32 34 36 38 40 42 44 46 48 50 52 54 56 58 60 62 64 66 68 70 72 74 76 78 80 82 84 86 88 90 92 94 96 98 "
     ]
    }
   ],
   "source": [
    "for i in range(0,100):\n",
    "    if i%2 == 0:\n",
    "        print(i , end = ' ')"
   ]
  },
  {
   "cell_type": "code",
   "execution_count": 17,
   "id": "287555e9-ed50-4de1-8ffb-83beb929f2e4",
   "metadata": {},
   "outputs": [
    {
     "data": {
      "text/plain": [
       "1"
      ]
     },
     "execution_count": 17,
     "metadata": {},
     "output_type": "execute_result"
    }
   ],
   "source": [
    "1%2"
   ]
  },
  {
   "cell_type": "code",
   "execution_count": 21,
   "id": "006c614f-352c-475f-97f6-6a442bf80bf9",
   "metadata": {},
   "outputs": [
    {
     "data": {
      "text/plain": [
       "0"
      ]
     },
     "execution_count": 21,
     "metadata": {},
     "output_type": "execute_result"
    }
   ],
   "source": [
    "4%2"
   ]
  },
  {
   "cell_type": "code",
   "execution_count": null,
   "id": "33d9ae21-1cba-4d0a-96bb-bf49249516f7",
   "metadata": {},
   "outputs": [],
   "source": []
  },
  {
   "cell_type": "code",
   "execution_count": 30,
   "id": "e32be2f1-6674-46d5-a45d-adb690d734cc",
   "metadata": {},
   "outputs": [
    {
     "name": "stdout",
     "output_type": "stream",
     "text": [
      "0 2 4 6 8 "
     ]
    }
   ],
   "source": [
    "for i in range(0,50):\n",
    "    if (i%2 == 0) and (i< 10):\n",
    "        print(i , end = ' ')"
   ]
  },
  {
   "cell_type": "code",
   "execution_count": 33,
   "id": "92630b6f-3c52-4b06-8092-7f050fa045f3",
   "metadata": {},
   "outputs": [
    {
     "name": "stdout",
     "output_type": "stream",
     "text": [
      "0\n",
      "1\n",
      "2\n",
      "3\n",
      "4\n"
     ]
    }
   ],
   "source": [
    "for i in range(0,10):\n",
    "    if (i == 5): \n",
    "        break\n",
    "    else: \n",
    "        print(i)"
   ]
  },
  {
   "cell_type": "code",
   "execution_count": 35,
   "id": "1c11062a-3c22-4117-8898-0559779360bf",
   "metadata": {},
   "outputs": [
    {
     "name": "stdout",
     "output_type": "stream",
     "text": [
      "1\n",
      "7\n",
      "9\n"
     ]
    }
   ],
   "source": [
    "for i in range(0,10):\n",
    "    if (i%2 != 0): \n",
    "        if i == 3 or i==5:\n",
    "            continue\n",
    "        print(i)"
   ]
  },
  {
   "cell_type": "code",
   "execution_count": null,
   "id": "bd5b0aca-26ae-4f2e-a463-0c0ac747e2e9",
   "metadata": {},
   "outputs": [],
   "source": []
  }
 ],
 "metadata": {
  "kernelspec": {
   "display_name": "Python 3 (ipykernel)",
   "language": "python",
   "name": "python3"
  },
  "language_info": {
   "codemirror_mode": {
    "name": "ipython",
    "version": 3
   },
   "file_extension": ".py",
   "mimetype": "text/x-python",
   "name": "python",
   "nbconvert_exporter": "python",
   "pygments_lexer": "ipython3",
   "version": "3.8.10"
  }
 },
 "nbformat": 4,
 "nbformat_minor": 5
}
