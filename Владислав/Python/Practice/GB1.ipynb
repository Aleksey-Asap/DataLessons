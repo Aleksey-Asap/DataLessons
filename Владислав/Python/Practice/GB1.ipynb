{
 "cells": [
  {
   "cell_type": "markdown",
   "id": "6d3a5d36-b297-43bc-8e07-55c34d02eb98",
   "metadata": {
    "tags": []
   },
   "source": [
    "## Задача1:"
   ]
  },
  {
   "cell_type": "markdown",
   "id": "8072d38c-f86a-49fb-a216-b1983bcda0cc",
   "metadata": {},
   "source": [
    "### Подзадача 1\n"
   ]
  },
  {
   "cell_type": "code",
   "execution_count": null,
   "id": "da5c41d9-3340-4e42-80b1-9b502f18690c",
   "metadata": {},
   "outputs": [],
   "source": [
    "# На складе лежат разные фрукты в разном количестве.\n",
    "# Нужно написать функцию, которая на вход принимает любое количество названий фруктов и их количество, а возвращает общее количество фруктов на складе"
   ]
  },
  {
   "cell_type": "code",
   "execution_count": 5,
   "id": "ef082ce5-78ab-42eb-b165-5dae9859af09",
   "metadata": {},
   "outputs": [
    {
     "name": "stdout",
     "output_type": "stream",
     "text": [
      "42\n"
     ]
    }
   ],
   "source": [
    "def get_count_fruits(**count_fruits):\n",
    "    print(sum(count_fruits.values()))\n",
    "    \n",
    "get_count_fruits(apple = 10, banana = 20, оranges = 12)"
   ]
  },
  {
   "cell_type": "markdown",
   "id": "9c971ae1-2e19-42e2-aff2-7229616d20ec",
   "metadata": {},
   "source": [
    "### Подзадача 2"
   ]
  },
  {
   "cell_type": "code",
   "execution_count": 9,
   "id": "b2b49a95-086e-4c1c-8615-a2fd70262ae9",
   "metadata": {},
   "outputs": [
    {
     "data": {
      "text/plain": [
       "[100, 125, None, 655, None, 200]"
      ]
     },
     "execution_count": 9,
     "metadata": {},
     "output_type": "execute_result"
    }
   ],
   "source": [
    "# Дан список с затратами на рекламу. Но в данных есть ошибки, некоторые затраты имеют отрицательную величину. Удалите такие значения из списка и посчитайте суммарные затраты\n",
    "# [100, 125, -90, 345, 655, -1, 0, 200]\n",
    "# Используйте list comprehensions\n",
    "\n",
    "def delete_nagative(number):\n",
    "    for value in number:\n",
    "        if value < 0:\n",
    "            number.remove(value)\n",
    "    return number\n",
    "\n",
    "number1 = [100, 125, -90, 345, 655, -1, 0, 200]\n",
    "# delete_nagative(number1)          \n",
    "\n",
    "\n",
    "[number1.remove(i) if i < 0 else i for i in number1] "
   ]
  },
  {
   "cell_type": "code",
   "execution_count": null,
   "id": "8f31d15d-a753-44e3-9a91-790ae50143e8",
   "metadata": {},
   "outputs": [],
   "source": []
  }
 ],
 "metadata": {
  "kernelspec": {
   "display_name": "Python 3 (ipykernel)",
   "language": "python",
   "name": "python3"
  },
  "language_info": {
   "codemirror_mode": {
    "name": "ipython",
    "version": 3
   },
   "file_extension": ".py",
   "mimetype": "text/x-python",
   "name": "python",
   "nbconvert_exporter": "python",
   "pygments_lexer": "ipython3",
   "version": "3.8.10"
  }
 },
 "nbformat": 4,
 "nbformat_minor": 5
}
