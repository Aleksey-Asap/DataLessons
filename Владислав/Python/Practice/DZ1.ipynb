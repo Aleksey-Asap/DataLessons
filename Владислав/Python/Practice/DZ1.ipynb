{
 "cells": [
  {
   "cell_type": "markdown",
   "id": "80ec420e-0e70-4687-8902-a72a53056b4e",
   "metadata": {
    "tags": []
   },
   "source": [
    "Home Work 1 (Python Intro)\n",
    "Задание 1\n",
    "Предположим вы хотите создать программу которая собирает информацию о учениках, изучающих Python. Ваша программа должна задавать интересущие вопросы и сохранять результат в переменные (например: имя, фамилия, возраст).\n",
    "\n",
    "Незабудьте учесть тип переменных и преобразовать их (возраст, стаж программирования).Число вопросов произвольное\n",
    "\n",
    "# Код \n",
    "Задание 2\n",
    "Напишите программу которая считывает числа с клавиатуры и затем дублирует введенное число n раз\n",
    "\n",
    "# Код \n",
    "Задание 3\n",
    "Напишите программу которая считывает два сообщения (либой текст) и выводит их длину\n",
    "\n",
    "# Код \n",
    "Задание 4\n",
    "Напишите программу которая считвает число с клавиатуры и выводит тоже самое число но в формате str если оно четное, если нет - тоже число только дублирующееся n раз (n - любое)\n",
    "\n",
    "Пример\n",
    "\n",
    "number = 5 -> 55555 (n = 5)\n",
    "number = 10 -> '10'"
   ]
  },
  {
   "cell_type": "code",
   "execution_count": 2,
   "id": "45c93026-ffc7-4b71-b139-b4bd7ad958b3",
   "metadata": {},
   "outputs": [
    {
     "name": "stdin",
     "output_type": "stream",
     "text": [
      "Введите Ваше имя Алексей\n",
      "Введите Ваш возраст 24\n"
     ]
    },
    {
     "name": "stdout",
     "output_type": "stream",
     "text": [
      "Пользователь:Алексей Возраст:24\n"
     ]
    }
   ],
   "source": [
    "name = input('Введите Ваше имя')\n",
    "age = int(input('Введите Ваш возраст'))\n",
    "print(f\"Пользователь:{name} Возраст:{age}\")"
   ]
  },
  {
   "cell_type": "code",
   "execution_count": 3,
   "id": "646a0a39-97d8-4109-a2d9-7a0de30aad3a",
   "metadata": {},
   "outputs": [
    {
     "name": "stdin",
     "output_type": "stream",
     "text": [
      "Введите Ваше имя Алексей\n",
      "Введите Ваш возраст 24\n",
      "Введите Вашу страну Россия \n"
     ]
    },
    {
     "name": "stdout",
     "output_type": "stream",
     "text": [
      "Пользователь:Алексей Возраст:24 Страна:Россия \n"
     ]
    }
   ],
   "source": [
    "name = input('Введите Ваше имя')\n",
    "age = int(input('Введите Ваш возраст'))\n",
    "contry = input('Введите Вашу страну')\n",
    "print(f\"Пользователь:{name} Возраст:{age} Страна:{contry}\")"
   ]
  },
  {
   "cell_type": "code",
   "execution_count": 17,
   "id": "734c7d01-f76a-4664-a295-a3883abd2c62",
   "metadata": {},
   "outputs": [
    {
     "name": "stdin",
     "output_type": "stream",
     "text": [
      "Введите число Леша\n",
      "Сколько раз хотите продублировать 5\n"
     ]
    },
    {
     "name": "stdout",
     "output_type": "stream",
     "text": [
      "ЛешаЛешаЛешаЛешаЛеша\n"
     ]
    }
   ],
   "source": [
    "a = input('Введите число')\n",
    "n = int(input('Сколько раз хотите продублировать'))\n",
    "z = a*n\n",
    "print(z)"
   ]
  },
  {
   "cell_type": "code",
   "execution_count": 5,
   "id": "2b2c0161-b15f-46b7-83a8-eabac9d1975c",
   "metadata": {},
   "outputs": [
    {
     "data": {
      "text/plain": [
       "'123'"
      ]
     },
     "execution_count": 5,
     "metadata": {},
     "output_type": "execute_result"
    }
   ],
   "source": [
    "\"123\""
   ]
  },
  {
   "cell_type": "code",
   "execution_count": 6,
   "id": "30869d6e-f3b1-45f0-acad-6f8597b02285",
   "metadata": {},
   "outputs": [
    {
     "data": {
      "text/plain": [
       "'123123'"
      ]
     },
     "execution_count": 6,
     "metadata": {},
     "output_type": "execute_result"
    }
   ],
   "source": [
    "2*\"123\""
   ]
  },
  {
   "cell_type": "code",
   "execution_count": 18,
   "id": "7ad31967-67f1-4c8c-b36a-ac9b1a0d0873",
   "metadata": {},
   "outputs": [
    {
     "name": "stdin",
     "output_type": "stream",
     "text": [
      "Введите текст сообщения Меня зовут Алексей\n"
     ]
    },
    {
     "name": "stdout",
     "output_type": "stream",
     "text": [
      "18\n"
     ]
    }
   ],
   "source": [
    "tekst = input('Введите текст сообщения')\n",
    "print(len(tekst))"
   ]
  },
  {
   "cell_type": "code",
   "execution_count": 19,
   "id": "16c5f9e0-8658-47e0-9eb4-5b30b4ab59e6",
   "metadata": {},
   "outputs": [
    {
     "name": "stdin",
     "output_type": "stream",
     "text": [
      "Введите текст сообщения Меня зовут Алексей\n"
     ]
    },
    {
     "name": "stdout",
     "output_type": "stream",
     "text": [
      "3\n"
     ]
    }
   ],
   "source": [
    "tekst = input('Введите текст сообщения')\n",
    "print(len(tekst.split()))"
   ]
  },
  {
   "cell_type": "code",
   "execution_count": 23,
   "id": "96b0751d-8089-46d1-8394-0c89556d8030",
   "metadata": {},
   "outputs": [
    {
     "name": "stdin",
     "output_type": "stream",
     "text": [
      "Введите число 3\n"
     ]
    },
    {
     "name": "stdout",
     "output_type": "stream",
     "text": [
      "333\n"
     ]
    }
   ],
   "source": [
    "a = int(input('Введите число'))\n",
    "if a % 2 == 0:\n",
    "    print(a)\n",
    "else:\n",
    "    z = str(a)*a\n",
    "    print(z)"
   ]
  },
  {
   "cell_type": "code",
   "execution_count": null,
   "id": "c4fcb3b3-ed4f-45bf-9163-d738786f96ec",
   "metadata": {},
   "outputs": [],
   "source": []
  }
 ],
 "metadata": {
  "kernelspec": {
   "display_name": "Python 3 (ipykernel)",
   "language": "python",
   "name": "python3"
  },
  "language_info": {
   "codemirror_mode": {
    "name": "ipython",
    "version": 3
   },
   "file_extension": ".py",
   "mimetype": "text/x-python",
   "name": "python",
   "nbconvert_exporter": "python",
   "pygments_lexer": "ipython3",
   "version": "3.8.10"
  }
 },
 "nbformat": 4,
 "nbformat_minor": 5
}
