{
 "cells": [
  {
   "cell_type": "code",
   "execution_count": 13,
   "id": "6565d561-2142-43fd-9aa1-e618d00e12bf",
   "metadata": {},
   "outputs": [],
   "source": [
    "cadastr_id = ['nomer_1', 777, 'nomer_2', 111]"
   ]
  },
  {
   "cell_type": "code",
   "execution_count": 14,
   "id": "e05c0557-41ec-47c9-a0b6-5dcac80c5fd6",
   "metadata": {},
   "outputs": [
    {
     "data": {
      "text/plain": [
       "list"
      ]
     },
     "execution_count": 14,
     "metadata": {},
     "output_type": "execute_result"
    }
   ],
   "source": [
    "type(cadastr_id)"
   ]
  },
  {
   "cell_type": "code",
   "execution_count": 15,
   "id": "bdda7b21-081e-4891-b7c8-b95ce92b127e",
   "metadata": {},
   "outputs": [
    {
     "name": "stdout",
     "output_type": "stream",
     "text": [
      "['nomer_1', 777, 'nomer_2', 'xxx']\n"
     ]
    }
   ],
   "source": [
    "cadastr_id[-1] = 'xxx'\n",
    "print(cadastr_id)"
   ]
  },
  {
   "cell_type": "code",
   "execution_count": 16,
   "id": "cf01cfd5-6520-4a7c-aa55-4aab6684418b",
   "metadata": {},
   "outputs": [
    {
     "data": {
      "text/plain": [
       "['nomer_1', 777, 'nomer_2', 'xxx', 'nomer_3']"
      ]
     },
     "execution_count": 16,
     "metadata": {},
     "output_type": "execute_result"
    }
   ],
   "source": [
    "# add\n",
    "new_id = 'nomer_3'\n",
    "cadastr_id.append(new_id)\n",
    "cadastr_id"
   ]
  },
  {
   "cell_type": "code",
   "execution_count": 17,
   "id": "20499b70-56b6-43c7-afeb-cafc7cf44780",
   "metadata": {},
   "outputs": [
    {
     "name": "stdout",
     "output_type": "stream",
     "text": [
      "['nomer_1', 777, 111, 'nomer_2', 'xxx', 'nomer_3']\n"
     ]
    }
   ],
   "source": [
    "cadastr_id.insert(2, 111)\n",
    "print(cadastr_id)"
   ]
  },
  {
   "cell_type": "code",
   "execution_count": 18,
   "id": "90056325-58a0-41c6-9bc2-b484f6878d64",
   "metadata": {},
   "outputs": [],
   "source": [
    "cadastr_id.insert(2, '100000')"
   ]
  },
  {
   "cell_type": "code",
   "execution_count": 19,
   "id": "4ebdf175-07e1-486f-adba-3d353d32713d",
   "metadata": {},
   "outputs": [
    {
     "data": {
      "text/plain": [
       "['nomer_1', 777, '100000', 111, 'nomer_2', 'xxx', 'nomer_3']"
      ]
     },
     "execution_count": 19,
     "metadata": {},
     "output_type": "execute_result"
    }
   ],
   "source": [
    "cadastr_id"
   ]
  },
  {
   "cell_type": "code",
   "execution_count": 39,
   "id": "d8b2cda4-ccf9-47ae-b324-fb646c2ffda0",
   "metadata": {},
   "outputs": [],
   "source": [
    "# del (удаление)\n",
    "element_index = cadastr_id.index('100000')\n",
    "del cadastr_id[element_index]"
   ]
  },
  {
   "cell_type": "code",
   "execution_count": 20,
   "id": "903c6fc9-7b9b-43ea-8fa6-70a3b8e98fe2",
   "metadata": {},
   "outputs": [
    {
     "data": {
      "text/plain": [
       "'nomer_3'"
      ]
     },
     "execution_count": 20,
     "metadata": {},
     "output_type": "execute_result"
    }
   ],
   "source": [
    "# pop (удаляет элемент в конце)\n",
    "cadastr_id.pop()"
   ]
  },
  {
   "cell_type": "code",
   "execution_count": 46,
   "id": "b5afd51a-fe11-4acc-a422-50ad596d1963",
   "metadata": {},
   "outputs": [
    {
     "data": {
      "text/plain": [
       "['nomer_1', 777, 111, 'nomer_2', 'xxx']"
      ]
     },
     "execution_count": 46,
     "metadata": {},
     "output_type": "execute_result"
    }
   ],
   "source": [
    "cadastr_id"
   ]
  },
  {
   "cell_type": "code",
   "execution_count": 47,
   "id": "3c73336d-5b61-4c81-9f92-ab197317ecb0",
   "metadata": {},
   "outputs": [
    {
     "data": {
      "text/plain": [
       "'xxx'"
      ]
     },
     "execution_count": 47,
     "metadata": {},
     "output_type": "execute_result"
    }
   ],
   "source": [
    "cadastr_id.pop()"
   ]
  },
  {
   "cell_type": "code",
   "execution_count": 48,
   "id": "08a4f311-ff4f-441d-9db2-2e80dcce3a7f",
   "metadata": {},
   "outputs": [
    {
     "data": {
      "text/plain": [
       "['nomer_1', 777, 111, 'nomer_2']"
      ]
     },
     "execution_count": 48,
     "metadata": {},
     "output_type": "execute_result"
    }
   ],
   "source": [
    "cadastr_id"
   ]
  },
  {
   "cell_type": "code",
   "execution_count": 49,
   "id": "467e15fb-cda1-4356-a577-4ebc02e7c54a",
   "metadata": {},
   "outputs": [
    {
     "data": {
      "text/plain": [
       "4"
      ]
     },
     "execution_count": 49,
     "metadata": {},
     "output_type": "execute_result"
    }
   ],
   "source": [
    "# len (сколько элементов в списке)\n",
    "len(cadastr_id)"
   ]
  },
  {
   "cell_type": "code",
   "execution_count": 53,
   "id": "f6b4cad0-dd0f-4b86-a02c-9bd7ada93ffd",
   "metadata": {},
   "outputs": [],
   "source": [
    "cadastr_id.append(777)"
   ]
  },
  {
   "cell_type": "code",
   "execution_count": 54,
   "id": "e4fa25c1-4f79-45ba-a910-b046b7ddc4fe",
   "metadata": {},
   "outputs": [
    {
     "data": {
      "text/plain": [
       "['nomer_1', 777, 111, 'nomer_2', 777]"
      ]
     },
     "execution_count": 54,
     "metadata": {},
     "output_type": "execute_result"
    }
   ],
   "source": [
    "cadastr_id"
   ]
  },
  {
   "cell_type": "code",
   "execution_count": 58,
   "id": "454de413-4121-48e3-a7f0-a80b79e6cc3f",
   "metadata": {},
   "outputs": [
    {
     "data": {
      "text/plain": [
       "1"
      ]
     },
     "execution_count": 58,
     "metadata": {},
     "output_type": "execute_result"
    }
   ],
   "source": [
    "cadastr_id.count('nomer_2')"
   ]
  },
  {
   "cell_type": "code",
   "execution_count": null,
   "id": "8f496923-6715-48cb-b468-3566121ace4b",
   "metadata": {},
   "outputs": [],
   "source": []
  },
  {
   "cell_type": "code",
   "execution_count": 22,
   "id": "f1324de5-b96f-4721-bd11-be58e228910f",
   "metadata": {},
   "outputs": [],
   "source": [
    "numbers = [100, 22, 999, 65]\n",
    "numbers.sort(reverse=True)"
   ]
  },
  {
   "cell_type": "code",
   "execution_count": 23,
   "id": "382ce942-fe7e-4bf4-a092-b1f8b7b89c5c",
   "metadata": {},
   "outputs": [
    {
     "data": {
      "text/plain": [
       "[999, 100, 65, 22]"
      ]
     },
     "execution_count": 23,
     "metadata": {},
     "output_type": "execute_result"
    }
   ],
   "source": [
    "numbers"
   ]
  },
  {
   "cell_type": "code",
   "execution_count": null,
   "id": "4fe1fa0f-42a4-45b3-b5f1-28aea4e3e3c6",
   "metadata": {},
   "outputs": [],
   "source": []
  },
  {
   "cell_type": "code",
   "execution_count": null,
   "id": "4304ce44-c6f1-4b3c-94d7-12531d6d1820",
   "metadata": {},
   "outputs": [],
   "source": []
  },
  {
   "cell_type": "code",
   "execution_count": null,
   "id": "33b6c861-9764-4e5a-a5eb-fcd2047b70c1",
   "metadata": {},
   "outputs": [],
   "source": []
  }
 ],
 "metadata": {
  "kernelspec": {
   "display_name": "Python 3 (ipykernel)",
   "language": "python",
   "name": "python3"
  },
  "language_info": {
   "codemirror_mode": {
    "name": "ipython",
    "version": 3
   },
   "file_extension": ".py",
   "mimetype": "text/x-python",
   "name": "python",
   "nbconvert_exporter": "python",
   "pygments_lexer": "ipython3",
   "version": "3.9.12"
  }
 },
 "nbformat": 4,
 "nbformat_minor": 5
}
