{
 "cells": [
  {
   "cell_type": "markdown",
   "id": "798266bb-cf02-4c8e-9a1e-2e7c153df831",
   "metadata": {
    "tags": []
   },
   "source": [
    "### String"
   ]
  },
  {
   "cell_type": "code",
   "execution_count": 1,
   "id": "95ba51fa-2b68-419b-b92a-76f5790c68b8",
   "metadata": {},
   "outputs": [],
   "source": [
    "test_string = \"Привет!\""
   ]
  },
  {
   "cell_type": "code",
   "execution_count": 2,
   "id": "b6ef3298-2351-4dd2-89d8-9a30d8e00672",
   "metadata": {},
   "outputs": [
    {
     "data": {
      "text/plain": [
       "'Привет!'"
      ]
     },
     "execution_count": 2,
     "metadata": {},
     "output_type": "execute_result"
    }
   ],
   "source": [
    "test_string"
   ]
  },
  {
   "cell_type": "code",
   "execution_count": 4,
   "id": "27e4f605-e9a9-43a6-a122-6fce740c6ccc",
   "metadata": {},
   "outputs": [
    {
     "data": {
      "text/plain": [
       "int"
      ]
     },
     "execution_count": 4,
     "metadata": {},
     "output_type": "execute_result"
    }
   ],
   "source": [
    "type(5)"
   ]
  },
  {
   "cell_type": "code",
   "execution_count": 6,
   "id": "e829ace3-6b63-4802-b7a2-b51ea1ce8ea9",
   "metadata": {},
   "outputs": [
    {
     "name": "stdout",
     "output_type": "stream",
     "text": [
      "Вывести на печать Привет!\n"
     ]
    }
   ],
   "source": [
    "print(f\"Вывести на печать {test_string}\")"
   ]
  },
  {
   "cell_type": "code",
   "execution_count": 7,
   "id": "873d9bdf-52f7-4501-b306-3bcabf1945fa",
   "metadata": {},
   "outputs": [
    {
     "data": {
      "text/plain": [
       "'П'"
      ]
     },
     "execution_count": 7,
     "metadata": {},
     "output_type": "execute_result"
    }
   ],
   "source": [
    "test_string[0]"
   ]
  },
  {
   "cell_type": "code",
   "execution_count": 8,
   "id": "f11a074d-582b-47ce-b97e-ce206c85017f",
   "metadata": {},
   "outputs": [
    {
     "data": {
      "text/plain": [
       "'в'"
      ]
     },
     "execution_count": 8,
     "metadata": {},
     "output_type": "execute_result"
    }
   ],
   "source": [
    "test_string[3]"
   ]
  },
  {
   "cell_type": "code",
   "execution_count": 9,
   "id": "6fcab064-07a3-4abc-befc-fc5d04c315f1",
   "metadata": {},
   "outputs": [
    {
     "data": {
      "text/plain": [
       "7"
      ]
     },
     "execution_count": 9,
     "metadata": {},
     "output_type": "execute_result"
    }
   ],
   "source": [
    "len(test_string)"
   ]
  },
  {
   "cell_type": "code",
   "execution_count": 10,
   "id": "e190a1a0-2734-4536-8ca1-7699e561fb14",
   "metadata": {},
   "outputs": [
    {
     "ename": "IndexError",
     "evalue": "string index out of range",
     "output_type": "error",
     "traceback": [
      "\u001b[1;31m---------------------------------------------------------------------------\u001b[0m",
      "\u001b[1;31mIndexError\u001b[0m                                Traceback (most recent call last)",
      "Input \u001b[1;32mIn [10]\u001b[0m, in \u001b[0;36m<cell line: 1>\u001b[1;34m()\u001b[0m\n\u001b[1;32m----> 1\u001b[0m \u001b[43mtest_string\u001b[49m\u001b[43m[\u001b[49m\u001b[38;5;241;43m10\u001b[39;49m\u001b[43m]\u001b[49m\n",
      "\u001b[1;31mIndexError\u001b[0m: string index out of range"
     ]
    }
   ],
   "source": [
    "test_string[10]"
   ]
  },
  {
   "cell_type": "code",
   "execution_count": 11,
   "id": "1c2a3b27-ff31-4c2c-a38b-dee402b17874",
   "metadata": {},
   "outputs": [
    {
     "data": {
      "text/plain": [
       "'!'"
      ]
     },
     "execution_count": 11,
     "metadata": {},
     "output_type": "execute_result"
    }
   ],
   "source": [
    "test_string[-1]"
   ]
  },
  {
   "cell_type": "code",
   "execution_count": 12,
   "id": "e9309840-d148-4534-af73-516379ba7f0d",
   "metadata": {},
   "outputs": [
    {
     "data": {
      "text/plain": [
       "'Пр'"
      ]
     },
     "execution_count": 12,
     "metadata": {},
     "output_type": "execute_result"
    }
   ],
   "source": [
    "test_string[:2]"
   ]
  },
  {
   "cell_type": "code",
   "execution_count": 13,
   "id": "b1db6b7b-6dbd-4259-9db7-61228161369c",
   "metadata": {},
   "outputs": [
    {
     "data": {
      "text/plain": [
       "'Приве'"
      ]
     },
     "execution_count": 13,
     "metadata": {},
     "output_type": "execute_result"
    }
   ],
   "source": [
    "test_string[:5]"
   ]
  },
  {
   "cell_type": "code",
   "execution_count": 16,
   "id": "4e322797-9cd6-4c5f-90c4-503d241f66e0",
   "metadata": {},
   "outputs": [
    {
     "data": {
      "text/plain": [
       "'ет!'"
      ]
     },
     "execution_count": 16,
     "metadata": {},
     "output_type": "execute_result"
    }
   ],
   "source": [
    "test_string[-3:]"
   ]
  },
  {
   "cell_type": "code",
   "execution_count": 17,
   "id": "1f490e72-14ce-4f3c-a09a-46693e1b0f19",
   "metadata": {},
   "outputs": [
    {
     "data": {
      "text/plain": [
       "'Пие!'"
      ]
     },
     "execution_count": 17,
     "metadata": {},
     "output_type": "execute_result"
    }
   ],
   "source": [
    "test_string[::2]"
   ]
  },
  {
   "cell_type": "code",
   "execution_count": 18,
   "id": "bc58afa3-ddf1-4b97-b4c5-7a9dfaca403e",
   "metadata": {},
   "outputs": [
    {
     "data": {
      "text/plain": [
       "'Пие!'"
      ]
     },
     "execution_count": 18,
     "metadata": {},
     "output_type": "execute_result"
    }
   ],
   "source": [
    "test_string[0::2]"
   ]
  },
  {
   "cell_type": "code",
   "execution_count": 19,
   "id": "4429618b-d5ad-4b82-a308-b95caa638a18",
   "metadata": {},
   "outputs": [
    {
     "data": {
      "text/plain": [
       "'Пи'"
      ]
     },
     "execution_count": 19,
     "metadata": {},
     "output_type": "execute_result"
    }
   ],
   "source": [
    "test_string[0:4:2]"
   ]
  },
  {
   "cell_type": "code",
   "execution_count": 21,
   "id": "556be1f0-099a-46e5-b3bd-721c1fc7e60b",
   "metadata": {},
   "outputs": [
    {
     "ename": "TypeError",
     "evalue": "'str' object does not support item assignment",
     "output_type": "error",
     "traceback": [
      "\u001b[1;31m---------------------------------------------------------------------------\u001b[0m",
      "\u001b[1;31mTypeError\u001b[0m                                 Traceback (most recent call last)",
      "Input \u001b[1;32mIn [21]\u001b[0m, in \u001b[0;36m<cell line: 1>\u001b[1;34m()\u001b[0m\n\u001b[1;32m----> 1\u001b[0m test_string[\u001b[38;5;241m0\u001b[39m] \u001b[38;5;241m=\u001b[39m \u001b[38;5;124m\"\u001b[39m\u001b[38;5;124mp\u001b[39m\u001b[38;5;124m\"\u001b[39m\n",
      "\u001b[1;31mTypeError\u001b[0m: 'str' object does not support item assignment"
     ]
    }
   ],
   "source": [
    "test_string[0] = \"p\""
   ]
  },
  {
   "cell_type": "code",
   "execution_count": 22,
   "id": "4ca1ddd7-686f-483c-bd33-d512094bcc98",
   "metadata": {},
   "outputs": [
    {
     "ename": "NameError",
     "evalue": "name 'te' is not defined",
     "output_type": "error",
     "traceback": [
      "\u001b[1;31m---------------------------------------------------------------------------\u001b[0m",
      "\u001b[1;31mNameError\u001b[0m                                 Traceback (most recent call last)",
      "Input \u001b[1;32mIn [22]\u001b[0m, in \u001b[0;36m<cell line: 1>\u001b[1;34m()\u001b[0m\n\u001b[1;32m----> 1\u001b[0m \u001b[43mte\u001b[49m\n",
      "\u001b[1;31mNameError\u001b[0m: name 'te' is not defined"
     ]
    }
   ],
   "source": [
    "te"
   ]
  },
  {
   "cell_type": "code",
   "execution_count": 23,
   "id": "75610ce1-3add-4942-b662-df83f65713dc",
   "metadata": {},
   "outputs": [
    {
     "data": {
      "text/plain": [
       "'привет!'"
      ]
     },
     "execution_count": 23,
     "metadata": {},
     "output_type": "execute_result"
    }
   ],
   "source": [
    "test_string.lower()"
   ]
  },
  {
   "cell_type": "code",
   "execution_count": 24,
   "id": "59566a76-3381-455e-a272-06465e8cf4ed",
   "metadata": {},
   "outputs": [
    {
     "data": {
      "text/plain": [
       "'ПРИВЕТ!'"
      ]
     },
     "execution_count": 24,
     "metadata": {},
     "output_type": "execute_result"
    }
   ],
   "source": [
    "test_string.upper()"
   ]
  },
  {
   "cell_type": "code",
   "execution_count": 28,
   "id": "51209c46-2180-4da1-9d65-e09051d6420f",
   "metadata": {},
   "outputs": [],
   "source": [
    "new_string = \"Привет это грязная строка\""
   ]
  },
  {
   "cell_type": "code",
   "execution_count": 30,
   "id": "aa521bca-16c0-4707-9bc3-8e9a243b1aca",
   "metadata": {},
   "outputs": [
    {
     "data": {
      "text/plain": [
       "['Привет', 'это', 'грязная', 'строка']"
      ]
     },
     "execution_count": 30,
     "metadata": {},
     "output_type": "execute_result"
    }
   ],
   "source": [
    "new_string.split()"
   ]
  },
  {
   "cell_type": "code",
   "execution_count": 31,
   "id": "a0ca1b12-71c7-43eb-8375-f6648452bd67",
   "metadata": {},
   "outputs": [
    {
     "data": {
      "text/plain": [
       "True"
      ]
     },
     "execution_count": 31,
     "metadata": {},
     "output_type": "execute_result"
    }
   ],
   "source": [
    "new_string.endswith(\"строка\")"
   ]
  },
  {
   "cell_type": "code",
   "execution_count": null,
   "id": "7ee424d2-79d6-46dd-b4c2-81b971381c1e",
   "metadata": {},
   "outputs": [],
   "source": []
  }
 ],
 "metadata": {
  "kernelspec": {
   "display_name": "Python 3 (ipykernel)",
   "language": "python",
   "name": "python3"
  },
  "language_info": {
   "codemirror_mode": {
    "name": "ipython",
    "version": 3
   },
   "file_extension": ".py",
   "mimetype": "text/x-python",
   "name": "python",
   "nbconvert_exporter": "python",
   "pygments_lexer": "ipython3",
   "version": "3.9.12"
  }
 },
 "nbformat": 4,
 "nbformat_minor": 5
}
